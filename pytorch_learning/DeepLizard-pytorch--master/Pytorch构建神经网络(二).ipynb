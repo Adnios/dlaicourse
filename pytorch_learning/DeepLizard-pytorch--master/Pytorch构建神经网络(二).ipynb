{
 "cells": [
  {
   "cell_type": "markdown",
   "metadata": {},
   "source": [
    "# Pytorch神经网络构建(二)（13-28节）"
   ]
  },
  {
   "cell_type": "markdown",
   "metadata": {},
   "source": [
    "## 3. 神经网络与深度学习"
   ]
  },
  {
   "cell_type": "markdown",
   "metadata": {},
   "source": [
    "### 3.1 Fashion-MNIST 数据集的起源"
   ]
  },
  {
   "cell_type": "markdown",
   "metadata": {},
   "source": [
    "* 计算机程序一般由两个主要部分组成：代码和数据\n",
    "* 对于深度学习而言，软件即为网络本身，尤其是在训练过程中通过训练产生的权重\n",
    "* 神经网络程序员的工作是通过训练来监督和指导学习过程(可以看做是编写软件或代码的间接方式)\n",
    "#### 3.1.1 Fashion-MNIST数据集\n",
    "* MNIST是非常著名的手写数字数据集 (M:Modify; NIST: National Institute of Standard and Technology)\n",
    "* MNIST中共有7万张图像：6万张用于训练；1万张用于测试；共0—9十个类别\n",
    "* Fashion-MNIST数据集来自Zalando网站：10类别对应10种服饰；7万张 28x28的灰度图像\n",
    "* Fashion-MNIST的目的是取代MNIST数据集，用作基准来测试机器学习算法\n",
    "* Fashion-MNIST与MNIST数据集的异同：(1)异：MNIST数据集中图像都是手写图像，而Fashion-MNIST中的是真实图像；(2)同：这两个数据集具有相同的数据规模，图像大小，数据格式，以及训练集和测试集的分割方式\n",
    "* MNIST为何如此受欢迎：1.该数据集的规模允许深度学习研究者快速地检查和复现它们的算法；2.在所有的深度学习框架中都能使用该数据集\n",
    "* Pytorch中的torchvision包可以加载fashion-mnist数据集"
   ]
  },
  {
   "cell_type": "markdown",
   "metadata": {},
   "source": [
    "### 3.2 使用torchvision导入和加载数据集\n",
    "#### 3.2.1 创建深度学习项目的流程：\n",
    "1. 准备数据集\n",
    "2. 创建网络模型\n",
    "3. 训练网络模型\n",
    "4. 分析结果\n",
    "#### 3.2.2 数据准备遵守ETL过程：\n",
    "* 提取(extract)、转换(transform)、加载(load)\n",
    "* pytorch中自带的包，能够将ETL过程变得简单\n",
    "#### 3.2.3 数据的准备：\n",
    "* 1.提取：从源数据中获取fashion-mnist图像数据\n",
    "* 2.转换：将数据转换成张量的形式\n",
    "* 3.加载：将数据封装成对象，使其更容易访问\n",
    "* * Fashion-MNIST 与 MNIST数据集在调用上最大的不同就是URL的不同\n",
    "* * torch.utils.data.Dataset:一个用于表示数据集的抽象类\n",
    "* * torch.utils.data.DataLoader: 包装数据集并提供对底层的访问"
   ]
  },
  {
   "cell_type": "code",
   "execution_count": 1,
   "metadata": {},
   "outputs": [],
   "source": [
    "import torch\n",
    "import torchvision\n",
    "import torchvision.transforms as transforms # 可帮助对数据进行转换\n",
    "\n",
    "train_set = torchvision.datasets.FashionMNIST(\n",
    "    root = './data/FashionMNIST',   # 数据集在本地的存储位置\n",
    "    train = True,                   # 数据集用于训练\n",
    "    download = True,                # 如果本地没有数据，就自动下载\n",
    "    transform = transforms.Compose([\n",
    "        transforms.ToTensor()         \n",
    "    ])                              # 将图像转换成张量\n",
    ")\n",
    "\n",
    "train_loader = torch.utils.data.DataLoader(train_set)\n",
    "# 训练集被打包或加载到数据加载器中，可以以我们期望的格式来访问基础数据；\n",
    "# 数据加载器使我们能够访问数据并提供查询功能"
   ]
  },
  {
   "cell_type": "markdown",
   "metadata": {},
   "source": [
    "### 3.3 数据集的访问"
   ]
  },
  {
   "cell_type": "code",
   "execution_count": 2,
   "metadata": {},
   "outputs": [],
   "source": [
    "import torch \n",
    "import torchvision\n",
    "import torchvision.transforms as transforms\n",
    "\n",
    "train_set = torchvision.datasets.FashionMNIST(\n",
    "    root = './data/FashionMNIST',\n",
    "    train = True,\n",
    "    download = True,\n",
    "    transform = transforms.Compose([\n",
    "        transforms.ToTensor()\n",
    "    ])\n",
    ")\n",
    "# defautlt batch_size=1\n",
    "train_loader = torch.utils.data.DataLoader(train_set, batch_size=10)"
   ]
  },
  {
   "cell_type": "code",
   "execution_count": 3,
   "metadata": {},
   "outputs": [
    {
     "name": "stdout",
     "output_type": "stream",
     "text": [
      "60000\n",
      "tensor([9, 0, 0,  ..., 3, 0, 5])\n",
      "tensor([9, 0, 0,  ..., 3, 0, 5])\n",
      "tensor([6000, 6000, 6000, 6000, 6000, 6000, 6000, 6000, 6000, 6000])\n"
     ]
    },
    {
     "name": "stderr",
     "output_type": "stream",
     "text": [
      "/home/scrutiny/.local/lib/python3.6/site-packages/torchvision/datasets/mnist.py:43: UserWarning: train_labels has been renamed targets\n",
      "  warnings.warn(\"train_labels has been renamed targets\")\n"
     ]
    }
   ],
   "source": [
    "import numpy as np\n",
    "import matplotlib.pyplot as plt\n",
    "\n",
    "torch.set_printoptions(linewidth=120)     # 设置打印行宽\n",
    "print(len(train_set))\n",
    "print(train_set.train_labels)\n",
    "print(train_set.targets)\n",
    "print(train_set.train_labels.bincount())    # bincount:张量中每个值出现的频数"
   ]
  },
  {
   "cell_type": "markdown",
   "metadata": {},
   "source": [
    "* 要想从训练集对象中访问一个单独的元素，首先要将一个训练集对象(train_set)传递给python的iter()函数，以此返回一个表示数据流的对象；然后就可以使用next函数来获取数据流中的元素"
   ]
  },
  {
   "cell_type": "code",
   "execution_count": 4,
   "metadata": {},
   "outputs": [
    {
     "name": "stdout",
     "output_type": "stream",
     "text": [
      "2\n",
      "<class 'tuple'>\n"
     ]
    }
   ],
   "source": [
    "# 查看单个样本\n",
    "sample = next(iter(train_set))\n",
    "print(len(sample))\n",
    "print(type(sample))"
   ]
  },
  {
   "cell_type": "code",
   "execution_count": 5,
   "metadata": {},
   "outputs": [
    {
     "data": {
      "text/plain": [
       "torch.Size([1, 28, 28])"
      ]
     },
     "execution_count": 5,
     "metadata": {},
     "output_type": "execute_result"
    }
   ],
   "source": [
    "# 将sample解压成图像和标签\n",
    "image, label = sample\n",
    "# image = sample[0]\n",
    "# label = sample[1]\n",
    "image.shape\n",
    "# label.shape"
   ]
  },
  {
   "cell_type": "code",
   "execution_count": 6,
   "metadata": {},
   "outputs": [
    {
     "name": "stdout",
     "output_type": "stream",
     "text": [
      "label: 9\n"
     ]
    },
    {
     "data": {
      "image/png": "[encoded data removed]",
      "text/plain": [
       "<Figure size 432x288 with 1 Axes>"
      ]
     },
     "metadata": {
      "needs_background": "light"
     },
     "output_type": "display_data"
    }
   ],
   "source": [
    "# 显示图像和标签\n",
    "plt.imshow(image.squeeze(), cmap='gray')    # 将[1, 28, 28]->[28,28]\n",
    "print('label:', label)"
   ]
  },
  {
   "cell_type": "code",
   "execution_count": 7,
   "metadata": {},
   "outputs": [
    {
     "name": "stdout",
     "output_type": "stream",
     "text": [
      "2\n",
      "<class 'list'>\n",
      "torch.Size([10, 1, 28, 28])\n",
      "torch.Size([10])\n"
     ]
    }
   ],
   "source": [
    "# 查看批量样本\n",
    "batch= next(iter(train_loader))\n",
    "print(len(batch))\n",
    "print(type(batch))\n",
    "images, labels = batch\n",
    "print(images.shape)\n",
    "print(labels.shape)"
   ]
  },
  {
   "cell_type": "code",
   "execution_count": 8,
   "metadata": {},
   "outputs": [
    {
     "name": "stdout",
     "output_type": "stream",
     "text": [
      "torch.Size([3, 32, 302])\n",
      "labels: tensor([9, 0, 0, 3, 0, 2, 7, 2, 5, 5])\n"
     ]
    },
    {
     "data": {
      "image/png": "[encoded data removed]",
      "text/plain": [
       "<Figure size 1080x1080 with 1 Axes>"
      ]
     },
     "metadata": {
      "needs_background": "light"
     },
     "output_type": "display_data"
    }
   ],
   "source": [
    "# 画出一批的图像\n",
    "grid= torchvision.utils.make_grid(images,nrow =10)\n",
    "print(grid.shape)\n",
    "plt.figure(figsize=(15, 15))\n",
    "plt.imshow(np.transpose(grid,(1,2,0)))   # 将张量转换成矩阵\n",
    "print('labels:', labels)\n",
    "# 可以通过改变batchsize来显示更多的数据"
   ]
  },
  {
   "cell_type": "markdown",
   "metadata": {},
   "source": [
    "#### 3.3.1 不平衡数据集\n",
    "关于数据不均衡的问题可以读文章：A systematic study of the class imbalance problem in convolutional neural networks"
   ]
  },
  {
   "cell_type": "markdown",
   "metadata": {},
   "source": [
    "### 3.4 网络建立\n",
    "#### 3.4.1 class和object的区分\n",
    "* class 就是一个实际对象的蓝图或描述\n",
    "* object 就是事物本身\n",
    "* 创建的对象需要在类的实例中调用对象\n",
    "* * 一个给定类的所有实例都有两个核心组件：方法和属性\n",
    "* * 方法代表代码，属性代表数据；方法和属性是由类定义的\n",
    "* * 属性用于描述对象的特征；方法用于描述对象的行为，即对象能够做什么\n",
    "* * 在一个项目中可以有许多对象，即给定类的实例可以同时存在（可在一个类中创建多个对象）\n",
    "* * 类用于封装方法和属性"
   ]
  },
  {
   "cell_type": "markdown",
   "metadata": {},
   "source": [
    "#### 3.4.2 类和实例(对象)<python基础知识补充>\n",
    "* 类是抽象的模板，用于表述具有相同属性和方法的对象的集合，类的命名尽量见名知意\n",
    "* 对象是真实的，见得到摸得着的东西\n",
    "* 类的定义：class 类名():\n",
    "* 类的组成：类名；属性（一组数据）；方法（允许进行的操作）"
   ]
  },
  {
   "cell_type": "code",
   "execution_count": 9,
   "metadata": {},
   "outputs": [],
   "source": [
    "# 类的创建\n",
    "class Lizard:\n",
    "    def __init__(self, name):    # 创建对象时自动运行，不用额外调用,无返回值\n",
    "        self.name = name\n",
    "    def set_name(self, name):\n",
    "        self.name = name"
   ]
  },
  {
   "cell_type": "code",
   "execution_count": 10,
   "metadata": {},
   "outputs": [
    {
     "name": "stdout",
     "output_type": "stream",
     "text": [
      "deep\n",
      "lizard\n"
     ]
    }
   ],
   "source": [
    "# 类的调用\n",
    "lizard = Lizard('deep')\n",
    "print(lizard.name)\n",
    "lizard.set_name('lizard')\n",
    "print(lizard.name)"
   ]
  },
  {
   "cell_type": "markdown",
   "metadata": {},
   "source": [
    "#### 3.4.3 面向对象编程与pytorch的结合\n",
    "* 构建一个神经网络的主要组件是层（pytorch神经网络库中包含了帮助构造层的类）\n",
    "* 神经网络中的每一层都有两个主要组成部分：转换和权重（转换代表代码；权重代表数据）\n",
    "* forward方法（前向传输）：张量通过每层的变换向前流动，直到达到输出层\n",
    "* 构建神经网络时必须提供前向方法，前向方法即为实际的变换\n",
    "* 使用pytorch创建神经网络的步骤：\n",
    "* 1.扩展nn.Module基类\n",
    "* 2.定义层(layers)为类属性\n",
    "* 3.实现前向方法"
   ]
  },
  {
   "cell_type": "code",
   "execution_count": 11,
   "metadata": {},
   "outputs": [],
   "source": [
    "# CNN网络的建立\n",
    "import torch.nn as nn\n",
    "class Network(nn.Module):   #()中加入nn.Module可以使得Network类继承Module基类中的所有功能\n",
    "    def __init__(self):\n",
    "        super(Network, self).__init__()     # 对继承的父类的属性进行初始化，使用父类的方法来进行初始化\n",
    "        self.conv1 = nn.Conv2d(in_channels=1, out_channels=6, kernel_size=5)\n",
    "        self.conv2 = nn.Conv2d(in_channels=6, out_channels=12, kernel_size=5)\n",
    "        self.fc1 = nn.Linear(in_features=12*4*4, out_features=120)        # 从卷积层传入线性层需要对张量flatten\n",
    "        self.fc2 = nn.Linear(in_features=120, out_features=60)\n",
    "        self.out = nn.Linear(in_features=60, out_features=10)\n",
    "    def forward(self, t):\n",
    "        # implement the forward pass\n",
    "        return t"
   ]
  },
  {
   "cell_type": "code",
   "execution_count": 12,
   "metadata": {},
   "outputs": [
    {
     "data": {
      "text/plain": [
       "Network(\n",
       "  (conv1): Conv2d(1, 6, kernel_size=(5, 5), stride=(1, 1))\n",
       "  (conv2): Conv2d(6, 12, kernel_size=(5, 5), stride=(1, 1))\n",
       "  (fc1): Linear(in_features=192, out_features=120, bias=True)\n",
       "  (fc2): Linear(in_features=120, out_features=60, bias=True)\n",
       "  (out): Linear(in_features=60, out_features=10, bias=True)\n",
       ")"
      ]
     },
     "execution_count": 12,
     "metadata": {},
     "output_type": "execute_result"
    }
   ],
   "source": [
    "network = Network()     # 创建网络对象network\n",
    "network"
   ]
  },
  {
   "cell_type": "markdown",
   "metadata": {},
   "source": [
    "### 3.5 CNN构建及网络参数的使用\n",
    "在上述的Network类中，我们定义了两个卷积层和一个线性层；两个主要的部分封装在其中，即前向函数的定义和权重张量；每个层中权重张量包含了随着我们的网络在训练过程中学习而更新的权重值（这就是在网络类中将层定义为类属性的原因）；在Module类中，pytorch可以跟踪每一层的权重张量，由于我们在创建Network类时扩展了Module类，也就自动继承了该功能。\n",
    "* Parameter和Argument的区别：\n",
    "* * Parameter在函数定义中使用，可将其看作是占位符；(形参)\n",
    "* * Argument是当函数被调用时传递给函数的实际值；（实参）\n",
    "* Parameter的两种类型：\n",
    "* 1.Hyperparameters:其值是手动和任意确定的；要构建神经网络：kernel_size, out_channels, out_features都需要手动选择\n",
    "* 2.Data dependent Hyperparameters:其值是依赖于数据的参数\n",
    "* * 该参数位于网络的开始或末端，即第一个卷积层的输入通道和最后一个卷积层的输出特征图\n",
    "* * 第一个卷积层的输入通道依赖于构成训练集的图像内部的彩色通道的数量（灰度图像是1，彩色图像是3）\n",
    "* * 输出层的输出特征依赖于训练集中类的数量（fashion-MNIST数据集中的类型为10，则输出层的out_features=10）\n",
    "* * 通常情况下，一层的输入是上一层的输出（即：卷积层中所有输入通道和线性层中的输入特征都依赖于上一层的数据）\n",
    "* 当张量从卷积层传入线性层时，张量必须是flatten的"
   ]
  },
  {
   "cell_type": "markdown",
   "metadata": {},
   "source": [
    "|     Parameter     |     Description      |\n",
    "|:----------------------|:-------------------------|\n",
    "|kernel_size| 设置滤波器的大小；滤波器的数量就是输出通道数|\n",
    "|out_channels| 设置滤波器的数量，即为输出通道数|\n",
    "|out_features| 设置输出张量的大小|"
   ]
  },
  {
   "cell_type": "markdown",
   "metadata": {},
   "source": [
    "### 3.6 CNN的权重\n",
    "* 可学习参数：是在训练过程中学习的参数，初值是选择的任意值，其值在网络学习的过程中以迭代的方式进行更新\n",
    "* 说网络在学习是指：网络在学习参数的适合的值，适合的值就是能使损失函数最小化的值\n",
    "* 可学习的参数是网络的权重，存在于每一层中\n",
    "* 当我们扩展类的时候，我们会得到它的所有功能，为了得到它，我们可以添加额外的功能，也可覆盖现有的功能\n",
    "* 在python中，所有特殊的面向对象的方法通常都有前双下划线和后双下划线（__init__, __repr__）"
   ]
  },
  {
   "cell_type": "code",
   "execution_count": 13,
   "metadata": {},
   "outputs": [],
   "source": [
    "# Network类没有扩展Module基类\n",
    "import torch.nn as nn\n",
    "class Network():\n",
    "    def __init__(self):\n",
    "        #super(Network, self).__init__()\n",
    "        self.conv1 = nn.Conv2d(in_channels=1, out_channels=6, kernel_size=5)\n",
    "        self.conv2 = nn.Conv2d(in_channels=6, out_channels=12, kernel_size=5)\n",
    "        self.fc1 = nn.Linear(in_features=12*4*4, out_features=120)\n",
    "        self.fc2 = nn.Linear(in_features=120, out_features=60)\n",
    "        self.out = nn.Linear(in_features=60, out_features=10)\n",
    "    def forward(self,t):\n",
    "        # implement the forward pass\n",
    "        return t"
   ]
  },
  {
   "cell_type": "code",
   "execution_count": 14,
   "metadata": {},
   "outputs": [
    {
     "data": {
      "text/plain": [
       "<__main__.Network at 0x7f293f7e2c18>"
      ]
     },
     "execution_count": 14,
     "metadata": {},
     "output_type": "execute_result"
    }
   ],
   "source": [
    "network = Network()\n",
    "network"
   ]
  },
  {
   "cell_type": "markdown",
   "metadata": {},
   "source": [
    "* 如下所示，在未扩展module时，可使用__repr__函数实现正常输出"
   ]
  },
  {
   "cell_type": "code",
   "execution_count": 15,
   "metadata": {},
   "outputs": [],
   "source": [
    "import torch.nn as nn\n",
    "class Network():\n",
    "    def __init__(self):\n",
    "        #super(Network, self).__init__()\n",
    "        self.conv1 = nn.Conv2d(in_channels=1, out_channels=6, kernel_size=5)\n",
    "        self.conv2 = nn.Conv2d(in_channels=6, out_channels=12, kernel_size=5)\n",
    "        self.fc1 = nn.Linear(in_features=12*4*4, out_features=120)\n",
    "        self.fc2 = nn.Linear(in_features=120, out_features=60)\n",
    "        self.out = nn.Linear(in_features=60, out_features=10)\n",
    "    def forward(self,t):\n",
    "        # implement the forward pass\n",
    "        return t\n",
    "    def __repr__(self):\n",
    "        return \"lizard\""
   ]
  },
  {
   "cell_type": "code",
   "execution_count": 16,
   "metadata": {},
   "outputs": [
    {
     "data": {
      "text/plain": [
       "lizard"
      ]
     },
     "execution_count": 16,
     "metadata": {},
     "output_type": "execute_result"
    }
   ],
   "source": [
    "network = Network()\n",
    "network"
   ]
  },
  {
   "cell_type": "markdown",
   "metadata": {},
   "source": [
    "* 可使用点符号来访问指定的层"
   ]
  },
  {
   "cell_type": "code",
   "execution_count": 17,
   "metadata": {},
   "outputs": [
    {
     "data": {
      "text/plain": [
       "Conv2d(1, 6, kernel_size=(5, 5), stride=(1, 1))"
      ]
     },
     "execution_count": 17,
     "metadata": {},
     "output_type": "execute_result"
    }
   ],
   "source": [
    "network.conv1"
   ]
  },
  {
   "cell_type": "code",
   "execution_count": 18,
   "metadata": {},
   "outputs": [
    {
     "data": {
      "text/plain": [
       "Parameter containing:\n",
       "tensor([[[[ 0.1550, -0.1967,  0.0051,  0.1364, -0.1004],\n",
       "          [-0.0348,  0.1581, -0.0968,  0.0706, -0.0262],\n",
       "          [ 0.1209, -0.1307,  0.0147, -0.1079,  0.1350],\n",
       "          [ 0.0828, -0.1987,  0.0998,  0.0502,  0.0674],\n",
       "          [ 0.0078,  0.0604, -0.1605,  0.1366, -0.0363]]],\n",
       "\n",
       "\n",
       "        [[[ 0.1380, -0.0283, -0.1985, -0.1415,  0.0631],\n",
       "          [-0.1448,  0.0573, -0.0085, -0.1246,  0.1365],\n",
       "          [-0.1175, -0.1469, -0.0815,  0.1771, -0.0687],\n",
       "          [-0.0574,  0.1875, -0.0825, -0.1704, -0.0638],\n",
       "          [ 0.1323, -0.0415, -0.1018,  0.1031, -0.0696]]],\n",
       "\n",
       "\n",
       "        [[[ 0.1267,  0.0601, -0.0650,  0.1642, -0.0682],\n",
       "          [ 0.0142, -0.1832,  0.1301,  0.0342,  0.1481],\n",
       "          [-0.1737, -0.0392,  0.0063,  0.1013,  0.0383],\n",
       "          [ 0.0899,  0.1853, -0.0831, -0.0142,  0.1534],\n",
       "          [ 0.0019, -0.1703,  0.0796, -0.0143, -0.0874]]],\n",
       "\n",
       "\n",
       "        [[[-0.1380,  0.1161, -0.1240,  0.1348, -0.1203],\n",
       "          [ 0.0921, -0.0338, -0.0224,  0.0363,  0.1302],\n",
       "          [-0.0104,  0.0634, -0.0520, -0.1272, -0.1799],\n",
       "          [ 0.1154, -0.0971,  0.0566,  0.0705, -0.0743],\n",
       "          [-0.1162, -0.1116, -0.1972,  0.1521, -0.1276]]],\n",
       "\n",
       "\n",
       "        [[[ 0.0480,  0.1268, -0.0400,  0.1535, -0.1178],\n",
       "          [-0.0067,  0.1478, -0.1028,  0.0195, -0.0962],\n",
       "          [ 0.1805, -0.0889, -0.0806,  0.1857,  0.0312],\n",
       "          [ 0.0681,  0.0086, -0.1582, -0.0330,  0.1143],\n",
       "          [ 0.1775,  0.0833, -0.1755,  0.0284, -0.1677]]],\n",
       "\n",
       "\n",
       "        [[[ 0.0822, -0.0849,  0.1135,  0.0209,  0.1675],\n",
       "          [ 0.0078,  0.1189,  0.0888, -0.0576,  0.1642],\n",
       "          [ 0.1013, -0.1345,  0.0267, -0.1052,  0.1744],\n",
       "          [ 0.1937,  0.1603,  0.1400,  0.0617,  0.0287],\n",
       "          [ 0.1170,  0.1260, -0.1960, -0.1610, -0.0370]]]], requires_grad=True)"
      ]
     },
     "execution_count": 18,
     "metadata": {},
     "output_type": "execute_result"
    }
   ],
   "source": [
    "# 输出conv1的权重\n",
    "network.conv1.weight"
   ]
  },
  {
   "cell_type": "code",
   "execution_count": 19,
   "metadata": {},
   "outputs": [
    {
     "data": {
      "text/plain": [
       "torch.Size([6, 1, 5, 5])"
      ]
     },
     "execution_count": 19,
     "metadata": {},
     "output_type": "execute_result"
    }
   ],
   "source": [
    "# 输出conv1权重的形状\n",
    "network.conv1.weight.shape"
   ]
  },
  {
   "cell_type": "code",
   "execution_count": 20,
   "metadata": {},
   "outputs": [
    {
     "data": {
      "text/plain": [
       "torch.Size([120, 192])"
      ]
     },
     "execution_count": 20,
     "metadata": {},
     "output_type": "execute_result"
    }
   ],
   "source": [
    "# 对于全连接层，由于需要flatten的张量输入，故此时的权重张量是个秩为2的高度、宽度轴\n",
    "network.fc1.weight.shape   # height=>out_features; width=>in_features"
   ]
  },
  {
   "cell_type": "markdown",
   "metadata": {},
   "source": [
    "* 为了追踪网络中的所有权重张量，pytorch有一个叫Parameter的类，该类扩展了Tensor类， 所以每一层的权重张量就是这个参数类的一个实例\n",
    "* 权重矩阵定义了线性函数(线性映射)"
   ]
  },
  {
   "cell_type": "code",
   "execution_count": 21,
   "metadata": {},
   "outputs": [
    {
     "data": {
      "text/plain": [
       "tensor([30., 40., 50.])"
      ]
     },
     "execution_count": 21,
     "metadata": {},
     "output_type": "execute_result"
    }
   ],
   "source": [
    "# 张量的乘法\n",
    "in_features = torch.tensor([1,2,3,4],dtype=torch.float32)\n",
    "weight_matrix = torch.tensor([\n",
    "    [1,2,3,4],\n",
    "    [2,3,4,5],\n",
    "    [3,4,5,6]\n",
    "], dtype=torch.float32)\n",
    "weight_matrix.matmul(in_features)     # matmul: matrix multiply"
   ]
  },
  {
   "cell_type": "code",
   "execution_count": 22,
   "metadata": {},
   "outputs": [],
   "source": [
    "# CNN网络的建立\n",
    "import torch.nn as nn\n",
    "class Network(nn.Module):   #()中加入nn.Module可以使得Network类继承Module基类中的所有功能\n",
    "    def __init__(self):\n",
    "        super(Network, self).__init__()     # 对继承的父类的属性进行初始化，使用父类的方法来进行初始化\n",
    "        self.conv1 = nn.Conv2d(in_channels=1, out_channels=6, kernel_size=5)\n",
    "        self.conv2 = nn.Conv2d(in_channels=6, out_channels=12, kernel_size=5)\n",
    "        self.fc1 = nn.Linear(in_features=12*4*4, out_features=120)        # 从卷积层传入线性层需要对张量flatten\n",
    "        self.fc2 = nn.Linear(in_features=120, out_features=60)\n",
    "        self.out = nn.Linear(in_features=60, out_features=10)\n",
    "    def forward(self, t):\n",
    "        # implement the forward pass\n",
    "        return t"
   ]
  },
  {
   "cell_type": "code",
   "execution_count": 23,
   "metadata": {},
   "outputs": [
    {
     "data": {
      "text/plain": [
       "Network(\n",
       "  (conv1): Conv2d(1, 6, kernel_size=(5, 5), stride=(1, 1))\n",
       "  (conv2): Conv2d(6, 12, kernel_size=(5, 5), stride=(1, 1))\n",
       "  (fc1): Linear(in_features=192, out_features=120, bias=True)\n",
       "  (fc2): Linear(in_features=120, out_features=60, bias=True)\n",
       "  (out): Linear(in_features=60, out_features=10, bias=True)\n",
       ")"
      ]
     },
     "execution_count": 23,
     "metadata": {},
     "output_type": "execute_result"
    }
   ],
   "source": [
    "network = Network()\n",
    "network"
   ]
  },
  {
   "cell_type": "code",
   "execution_count": 24,
   "metadata": {},
   "outputs": [
    {
     "name": "stdout",
     "output_type": "stream",
     "text": [
      "torch.Size([6, 1, 5, 5])\n",
      "torch.Size([6])\n",
      "torch.Size([12, 6, 5, 5])\n",
      "torch.Size([12])\n",
      "torch.Size([120, 192])\n",
      "torch.Size([120])\n",
      "torch.Size([60, 120])\n",
      "torch.Size([60])\n",
      "torch.Size([10, 60])\n",
      "torch.Size([10])\n"
     ]
    }
   ],
   "source": [
    "for param in network.parameters():\n",
    "    print(param.shape)"
   ]
  },
  {
   "cell_type": "code",
   "execution_count": 25,
   "metadata": {},
   "outputs": [
    {
     "name": "stdout",
     "output_type": "stream",
     "text": [
      "torch.Size([6, 1, 5, 5])\n",
      "torch.Size([6])\n",
      "torch.Size([12, 6, 5, 5])\n",
      "torch.Size([12])\n",
      "torch.Size([120, 192])\n",
      "torch.Size([120])\n",
      "torch.Size([60, 120])\n",
      "torch.Size([60])\n",
      "torch.Size([10, 60])\n",
      "torch.Size([10])\n"
     ]
    }
   ],
   "source": [
    "# 访问所有的参数\n",
    "# 方法1：\n",
    "for param in network.parameters():\n",
    "    print(param.shape)"
   ]
  },
  {
   "cell_type": "code",
   "execution_count": 26,
   "metadata": {},
   "outputs": [
    {
     "name": "stdout",
     "output_type": "stream",
     "text": [
      "conv1.weight \t\t torch.Size([6, 1, 5, 5])\n",
      "conv1.bias \t\t torch.Size([6])\n",
      "conv2.weight \t\t torch.Size([12, 6, 5, 5])\n",
      "conv2.bias \t\t torch.Size([12])\n",
      "fc1.weight \t\t torch.Size([120, 192])\n",
      "fc1.bias \t\t torch.Size([120])\n",
      "fc2.weight \t\t torch.Size([60, 120])\n",
      "fc2.bias \t\t torch.Size([60])\n",
      "out.weight \t\t torch.Size([10, 60])\n",
      "out.bias \t\t torch.Size([10])\n"
     ]
    }
   ],
   "source": [
    "# 方法2： \n",
    "for name, param in network.named_parameters():\n",
    "    print(name,'\\t\\t', param.shape)"
   ]
  },
  {
   "cell_type": "markdown",
   "metadata": {},
   "source": [
    "### 3.7 pytorch可调用模块\n",
    "#### 3.7.1 Linear的工作原理"
   ]
  },
  {
   "cell_type": "code",
   "execution_count": 27,
   "metadata": {},
   "outputs": [
    {
     "data": {
      "text/plain": [
       "tensor([30., 40., 50.])"
      ]
     },
     "execution_count": 27,
     "metadata": {},
     "output_type": "execute_result"
    }
   ],
   "source": [
    "# 1. 张量的乘法\n",
    "in_features = torch.tensor([1,2,3,4], dtype=torch.float32)\n",
    "weight_matrix = torch.tensor([\n",
    "    [1,2,3,4],\n",
    "    [2,3,4,5],\n",
    "    [3,4,5,6]\n",
    "], dtype = torch.float32)\n",
    "weight_matrix.matmul(in_features)\n",
    "# 可将上述的权重矩阵看作是一个线性映射（函数），其实现过程与pytorch中的线性层一样"
   ]
  },
  {
   "cell_type": "code",
   "execution_count": 28,
   "metadata": {},
   "outputs": [
    {
     "data": {
      "text/plain": [
       "tensor([-2.7737, -1.3963,  1.2580], grad_fn=<AddBackward0>)"
      ]
     },
     "execution_count": 28,
     "metadata": {},
     "output_type": "execute_result"
    }
   ],
   "source": [
    "# 2. 线性层\n",
    "fc = nn.Linear(in_features=4, out_features=3)\n",
    "# pytorch 线性层通过将数字4和3传递给构造函数，以创建一个3x4的权重矩阵\n",
    "# 查看in_features张量\n",
    "fc(in_features)\n",
    "# 此时的结果与上述不同是因为这里的weight_matrix是由随机值来初始化的"
   ]
  },
  {
   "cell_type": "code",
   "execution_count": 29,
   "metadata": {},
   "outputs": [
    {
     "data": {
      "text/plain": [
       "tensor([29.8975, 40.3674, 49.7329], grad_fn=<AddBackward0>)"
      ]
     },
     "execution_count": 29,
     "metadata": {},
     "output_type": "execute_result"
    }
   ],
   "source": [
    "# 在parameter类中包装一个权重矩阵，以使得输出结果与1中一样\n",
    "fc = nn.Linear(in_features=4, out_features=3)\n",
    "fc.weight= nn.Parameter(weight_matrix)\n",
    "fc(in_features)\n",
    "# 此时的结果接近1中的结果却不精确，是因为由bias的存在"
   ]
  },
  {
   "cell_type": "code",
   "execution_count": 30,
   "metadata": {},
   "outputs": [
    {
     "name": "stdout",
     "output_type": "stream",
     "text": [
      "Parameter containing:\n",
      "tensor([[1., 2., 3., 4.],\n",
      "        [2., 3., 4., 5.],\n",
      "        [3., 4., 5., 6.]], requires_grad=True)\n"
     ]
    }
   ],
   "source": [
    "print(fc.weight)"
   ]
  },
  {
   "cell_type": "code",
   "execution_count": 31,
   "metadata": {},
   "outputs": [
    {
     "data": {
      "text/plain": [
       "tensor([30., 40., 50.], grad_fn=<SqueezeBackward3>)"
      ]
     },
     "execution_count": 31,
     "metadata": {},
     "output_type": "execute_result"
    }
   ],
   "source": [
    "# 给bias传递一个false值，以得到精确的输出\n",
    "fc = nn.Linear(in_features=4, out_features=3, bias =False)\n",
    "fc.weight = nn.Parameter(weight_matrix)\n",
    "fc(in_features)"
   ]
  },
  {
   "cell_type": "markdown",
   "metadata": {},
   "source": [
    "* 线性转换的数学表示：\n",
    "* y = Ax + b\n",
    "* A: 权重矩阵张量\n",
    "* x: 输入张量\n",
    "* b: 权重张量\n",
    "* y: 输出张量"
   ]
  },
  {
   "cell_type": "markdown",
   "metadata": {},
   "source": [
    "#### 3.7.2 特殊的调用\n"
   ]
  },
  {
   "cell_type": "markdown",
   "metadata": {},
   "source": [
    "### 3.8 CNN前向方法的实现\n",
    "* 前向方法的实现将使用我们在构造函数中定义的所有层\n",
    "* 前向方法实际上是输入张量到预测的输出张量的映射\n",
    "* call中调用forward()\n",
    "#### 3.8.1 Input Layer\n",
    "* 输入层是由输入数据决定的\n",
    "* 输入层可以看做是恒等变换 f(x)=x\n",
    "* 输入层通常是隐式存在的"
   ]
  },
  {
   "cell_type": "code",
   "execution_count": 32,
   "metadata": {},
   "outputs": [],
   "source": [
    "import torch.nn as nn\n",
    "import torch.nn.functional as F\n",
    "class Network(nn.Module):\n",
    "    def __init__(self):\n",
    "        super(Network, self).__init__()\n",
    "        self.conv1 = nn.Conv2d(in_channels=1, out_channels=6, kernel_size=5)\n",
    "        self.conv2 = nn.Conv2d(in_channels=6, out_channels=12, kernel_size=5)\n",
    "        self.fc1 = nn.Linear(in_features=12*4*4, out_features=120)\n",
    "        self.fc2 = nn.Linear(in_features=120,out_features=60)\n",
    "        self.out = nn.Linear(in_features=60, out_features=10)\n",
    "    def forward(self,t):\n",
    "        # (1) input layer\n",
    "        t = t\n",
    "        # (2) hidden conv layer1\n",
    "        t = self.conv1(t)\n",
    "        t = F.relu(t)\n",
    "        t = F.max_pool2d(t, kernel_size=2, stride=2)\n",
    "        # (3) hidden conv layer2\n",
    "        t = self.conv2(t)\n",
    "        t = F.relu(t)\n",
    "        t = F.max_pool2d(t, kernel_size=2, stride=2)\n",
    "        # relu 和 max pooling 都没有权重；激活层和池化层的本质都是操作而非层；层与操作的不同之处在于，层有权重，操作没有\n",
    "        #（4）hidden linear layer2\n",
    "        t = t.reshape(-1, 12*4*4)\n",
    "        t = self.fc1(t)\n",
    "        t = F.relu(t)\n",
    "        # (5) hidden linear layer2\n",
    "        t = self.fc2(t)\n",
    "        t = F.relu(t)\n",
    "        # (6) output layer\n",
    "        t = self.out(t)\n",
    "        # t= F.softmax(t, dim=1)  # 这里暂不使用softmax，在训练中使用交叉熵损失可隐式的表示softmax\n",
    "        # 在隐藏层中，通常使用relu作为非线性激活函数\n",
    "        # 在输出层，有类别要预测时，使用\n",
    "        "
   ]
  },
  {
   "cell_type": "markdown",
   "metadata": {},
   "source": [
    "### 3.9 单张图像的预测\n",
    "#### 3.9.1 前向传播(forward propagation)\n",
    "* 是将输入张量转换为输出张量的过程（即：神经网络是将输入张量映射到输出张量的函数）\n",
    "* 前向传播只是将输入张量传递给网络并从网络接收输出的过程的一个特殊名称\n",
    "#### 3.9.2 反向传播(back propagation)\n",
    "* 反向传播通常在前向传播后发生\n",
    "* 使用torch.set_grad_enabled(False)来关闭pytorch的梯度计算，这将阻止pytorch在我们的张量通过网络时构建一个计算图\n",
    "* 计算图通过跟踪张量在网络中传播的每一个计算，来跟踪网络的映射；然后在训练过程中使用这个图来计算导数，也就是损失函数的梯度；关闭并非强制的，但可以减少内存。"
   ]
  },
  {
   "cell_type": "code",
   "execution_count": 33,
   "metadata": {
    "scrolled": false
   },
   "outputs": [
    {
     "name": "stdout",
     "output_type": "stream",
     "text": [
      "torch.Size([1, 28, 28])\n",
      "torch.Size([1, 1, 28, 28])\n",
      "torch.Size([1, 10])\n",
      "tensor([2])\n",
      "9\n"
     ]
    }
   ],
   "source": [
    "# 单张图像预测\n",
    "import torch\n",
    "import torch.nn as nn\n",
    "import torch.nn.functional as F\n",
    "\n",
    "import torchvision\n",
    "import torchvision.transforms as transforms\n",
    "\n",
    "# 设置打印格式\n",
    "torch.set_printoptions(linewidth=120)\n",
    "\n",
    "# 一、数据准备\n",
    "train_set = torchvision.datasets.FashionMNIST(\n",
    "    root = './data/FashionMNIST'\n",
    "    ,train = True\n",
    "    ,download = True\n",
    "    , transform = transforms.Compose([\n",
    "        transforms.ToTensor()\n",
    "    ])\n",
    ")\n",
    "# 二、创建网络\n",
    "class Network(nn.Module):\n",
    "    def __init__(self):\n",
    "        super(Network, self).__init__()\n",
    "        self.conv1 = nn.Conv2d(in_channels = 1, out_channels=6, kernel_size=5)\n",
    "        self.conv2 = nn.Conv2d(in_channels = 6, out_channels=12, kernel_size=5)\n",
    "        self.fc1 = nn.Linear(in_features = 12*4*4, out_features=120)\n",
    "        self.fc2 = nn.Linear(in_features = 120, out_features = 60)\n",
    "        self.out = nn.Linear(in_features = 60, out_features=10)\n",
    "    def forward(self, t):\n",
    "        # （1）Input Layer\n",
    "        t = t\n",
    "        # (2) hidden conv1\n",
    "        t = self.conv1(t)\n",
    "        t = F.relu(t)\n",
    "        t = F.max_pool2d(t, kernel_size=2, stride=2)\n",
    "        # (3) hidden conv2 \n",
    "        t = self.conv2(t)\n",
    "        t = F.relu(t)\n",
    "        t = F.max_pool2d(t, kernel_size=2, stride=2)\n",
    "        # (4) hidden linear1\n",
    "        t = t.reshape(-1, 12*4*4)\n",
    "        t = self.fc1(t)\n",
    "        t = F.relu(t)\n",
    "        # (5) hidden linear2\n",
    "        t = self.fc2(t)\n",
    "        t = F.relu(t)\n",
    "        # (6) output\n",
    "        t = self.out(t)\n",
    "        return t\n",
    "        \n",
    "# 调用network实例\n",
    "torch.set_grad_enabled(False)    #关闭pytorch的梯度计算\n",
    "network = Network()\n",
    "sample = next(iter(train_set))\n",
    "image, label = sample\n",
    "print(image.shape)\n",
    "# 显示图像和标签\n",
    "#plt.imshow(image.squeeze(), cmap='gray')    # 将[1, 28, 28]->[28,28]\n",
    "#print('label:', label)\n",
    "# 如上我们得到的图像的形状为[1,28,28];而网络期望的张量是【batchsize,channels, height, width】\n",
    "# 需要使用unsqueeze方法来为其增加一个维度\n",
    "print(image.unsqueeze(0).shape)\n",
    "# 对单张图像进行预测\n",
    "pred = network(image.unsqueeze(0))\n",
    "print(pred.shape)\n",
    "print(pred.argmax(dim=1))\n",
    "print(label)"
   ]
  },
  {
   "cell_type": "code",
   "execution_count": 34,
   "metadata": {},
   "outputs": [
    {
     "name": "stdout",
     "output_type": "stream",
     "text": [
      "tensor([[0.1017, 0.0955, 0.1135, 0.0911, 0.1035, 0.0894, 0.1102, 0.1040, 0.0986, 0.0926]])\n",
      "tensor(1.)\n"
     ]
    }
   ],
   "source": [
    "# 要想将预测值用概率表示，可以使用softmax\n",
    "print(F.softmax(pred, dim=1))\n",
    "print(F.softmax(pred, dim=1).sum())"
   ]
  },
  {
   "cell_type": "markdown",
   "metadata": {},
   "source": [
    "### 3.10 单批次图像预测"
   ]
  },
  {
   "cell_type": "code",
   "execution_count": 35,
   "metadata": {},
   "outputs": [
    {
     "name": "stdout",
     "output_type": "stream",
     "text": [
      "1.2.0+cu92\n"
     ]
    }
   ],
   "source": [
    "import torch\n",
    "import torch.nn\n",
    "import torch.nn.functional as F\n",
    "\n",
    "import torchvision\n",
    "import torchvision.transforms as transforms\n",
    "\n",
    "torch.set_printoptions(linewidth=120)\n",
    "\n",
    "print(torch.__version__)\n",
    "# print(torchvision.__version__)"
   ]
  },
  {
   "cell_type": "code",
   "execution_count": 36,
   "metadata": {},
   "outputs": [],
   "source": [
    "# 数据准备\n",
    "train_set = torchvision.datasets.FashionMNIST(\n",
    "    root = './data/FashionMNIST'\n",
    "    ,train = True\n",
    "    ,download = True\n",
    "    ,transform = transforms.Compose([\n",
    "        transforms.ToTensor()\n",
    "    ]))"
   ]
  },
  {
   "cell_type": "code",
   "execution_count": 37,
   "metadata": {},
   "outputs": [],
   "source": [
    "# 网络创建\n",
    "class Network(nn.Module):\n",
    "    def __init__(self):\n",
    "        super(Network, self).__init__()\n",
    "        self.conv1 = nn.Conv2d(in_channels=1, out_channels=6, kernel_size=5)\n",
    "        self.conv2 = nn.Conv2d(in_channels=6, out_channels=12, kernel_size=5)\n",
    "        self.fc1 = nn.Linear(in_features=12*4*4, out_features=120)\n",
    "        self.fc2 = nn.Linear(in_features=120, out_features=60)\n",
    "        self.out = nn.Linear(in_features=60, out_features=10)\n",
    "    def forward(self, t):\n",
    "        #super(Network, self).__init__()\n",
    "        #(1)Input Layer\n",
    "        t = t\n",
    "        #(2)Conv1\n",
    "        t = F.relu(self.conv1(t))\n",
    "        t = F.max_pool2d(t, kernel_size=2, stride=2)\n",
    "        #(3)Conv2\n",
    "        t = F.relu(self.conv2(t))\n",
    "        t = F.max_pool2d(t, kernel_size=2, stride=2)\n",
    "        #(4)FC1\n",
    "        t = t.reshape(-1,12*4*4)\n",
    "        t = F.relu(self.fc1(t))\n",
    "        #(5)FC2\n",
    "        t = F.relu(self.fc2(t))\n",
    "        #(6)output\n",
    "        t = self.out(t)\n",
    "        return t"
   ]
  },
  {
   "cell_type": "code",
   "execution_count": 38,
   "metadata": {},
   "outputs": [
    {
     "name": "stdout",
     "output_type": "stream",
     "text": [
      "torch.Size([10, 1, 28, 28])\n",
      "torch.Size([10])\n"
     ]
    }
   ],
   "source": [
    "# 调用network实例\n",
    "torch.set_grad_enabled(False)\n",
    "network = Network()\n",
    "# 从dataloader中取出一批数据\n",
    "data_loader  = torch.utils.data.DataLoader(train_set, batch_size=10)\n",
    "batch = next(iter(data_loader))\n",
    "images, labels = batch\n",
    "print(images.shape)\n",
    "print(labels.shape)"
   ]
  },
  {
   "cell_type": "code",
   "execution_count": 39,
   "metadata": {},
   "outputs": [
    {
     "name": "stdout",
     "output_type": "stream",
     "text": [
      "torch.Size([10, 10])\n",
      "tensor([[ 1.2919e-01,  3.1965e-02, -7.7001e-03,  3.0372e-02, -6.7599e-02,  1.3760e-01,  1.8903e-03,  6.2647e-02,\n",
      "         -6.8753e-02, -6.4688e-02],\n",
      "        [ 1.2190e-01,  2.5585e-02, -6.8687e-03,  3.4240e-02, -7.0289e-02,  1.3624e-01,  4.5368e-03,  5.8238e-02,\n",
      "         -7.5559e-02, -6.6057e-02],\n",
      "        [ 1.3091e-01,  2.1538e-02,  3.6443e-03,  2.5664e-02, -6.2841e-02,  1.3358e-01, -2.6303e-04,  6.0917e-02,\n",
      "         -7.1316e-02, -7.5390e-02],\n",
      "        [ 1.2891e-01,  2.6405e-02,  1.3432e-03,  2.7608e-02, -6.2648e-02,  1.3362e-01,  7.3556e-05,  6.5516e-02,\n",
      "         -7.1202e-02, -7.1796e-02],\n",
      "        [ 1.3415e-01,  2.0246e-02, -6.0820e-03,  3.4991e-02, -5.9770e-02,  1.3277e-01, -7.7990e-03,  6.7674e-02,\n",
      "         -7.2181e-02, -7.2677e-02],\n",
      "        [ 1.2719e-01,  2.6591e-02, -9.3964e-03,  3.1549e-02, -6.9746e-02,  1.3794e-01,  1.9912e-03,  5.9636e-02,\n",
      "         -7.2292e-02, -6.5043e-02],\n",
      "        [ 1.2827e-01,  3.1095e-02, -6.7266e-03,  2.4865e-02, -6.7947e-02,  1.3469e-01, -2.9360e-03,  5.8102e-02,\n",
      "         -7.2823e-02, -6.3391e-02],\n",
      "        [ 1.2589e-01,  3.0408e-02, -8.7850e-03,  3.0664e-02, -6.6613e-02,  1.3883e-01,  5.0209e-03,  6.5987e-02,\n",
      "         -6.6252e-02, -6.6448e-02],\n",
      "        [ 1.2099e-01,  2.2644e-02, -4.5321e-03,  2.5382e-02, -7.1783e-02,  1.3637e-01,  7.6951e-03,  6.7632e-02,\n",
      "         -7.1505e-02, -7.3950e-02],\n",
      "        [ 1.2916e-01,  2.7829e-02, -1.1820e-02,  2.4743e-02, -6.7417e-02,  1.3520e-01, -1.7148e-03,  6.8149e-02,\n",
      "         -6.8551e-02, -7.0486e-02]])\n"
     ]
    }
   ],
   "source": [
    "pred = network(images)\n",
    "print(pred.shape)\n",
    "print(pred)"
   ]
  },
  {
   "cell_type": "code",
   "execution_count": 40,
   "metadata": {},
   "outputs": [
    {
     "name": "stdout",
     "output_type": "stream",
     "text": [
      "tensor([5, 5, 5, 5, 0, 5, 5, 5, 5, 5])\n",
      "tensor([9, 0, 0, 3, 0, 2, 7, 2, 5, 5])\n"
     ]
    }
   ],
   "source": [
    "print(pred.argmax(dim=1))\n",
    "print(labels)"
   ]
  },
  {
   "cell_type": "code",
   "execution_count": 41,
   "metadata": {},
   "outputs": [
    {
     "name": "stdout",
     "output_type": "stream",
     "text": [
      "tensor([[0.1114, 0.1011, 0.0972, 0.1009, 0.0915, 0.1124, 0.0981, 0.1042, 0.0914, 0.0918],\n",
      "        [0.1109, 0.1007, 0.0975, 0.1016, 0.0915, 0.1125, 0.0986, 0.1040, 0.0910, 0.0919],\n",
      "        [0.1118, 0.1002, 0.0985, 0.1006, 0.0921, 0.1121, 0.0981, 0.1043, 0.0913, 0.0910],\n",
      "        [0.1115, 0.1006, 0.0981, 0.1007, 0.0920, 0.1120, 0.0980, 0.1046, 0.0913, 0.0912],\n",
      "        [0.1121, 0.1000, 0.0974, 0.1015, 0.0924, 0.1120, 0.0973, 0.1049, 0.0912, 0.0912],\n",
      "        [0.1114, 0.1007, 0.0972, 0.1012, 0.0915, 0.1126, 0.0983, 0.1041, 0.0912, 0.0919],\n",
      "        [0.1116, 0.1012, 0.0975, 0.1006, 0.0917, 0.1123, 0.0978, 0.1040, 0.0912, 0.0921],\n",
      "        [0.1110, 0.1009, 0.0970, 0.1009, 0.0916, 0.1125, 0.0984, 0.1046, 0.0916, 0.0916],\n",
      "        [0.1108, 0.1004, 0.0977, 0.1007, 0.0914, 0.1125, 0.0989, 0.1050, 0.0914, 0.0912],\n",
      "        [0.1116, 0.1009, 0.0969, 0.1006, 0.0917, 0.1123, 0.0979, 0.1050, 0.0916, 0.0914]])\n",
      "tensor(10.0000)\n"
     ]
    }
   ],
   "source": [
    "print(F.softmax(pred, dim=1))\n",
    "print(F.softmax(pred,dim=1).sum())"
   ]
  },
  {
   "cell_type": "code",
   "execution_count": 42,
   "metadata": {},
   "outputs": [],
   "source": [
    "def get_num_correct(pred, labels):\n",
    "    return pred.argmax(dim=1).eq(labels).sum().item()"
   ]
  },
  {
   "cell_type": "code",
   "execution_count": 43,
   "metadata": {},
   "outputs": [
    {
     "data": {
      "text/plain": [
       "3"
      ]
     },
     "execution_count": 43,
     "metadata": {},
     "output_type": "execute_result"
    }
   ],
   "source": [
    "get_num_correct(pred, labels)"
   ]
  },
  {
   "cell_type": "markdown",
   "metadata": {},
   "source": [
    "### 3.11 输入张量在通过CNN的过程中的变化\n",
    "#### 3.11.1 CNN 输出特征图尺寸(正方形)\n",
    "* 假设输入特征的大小为n x n\n",
    "* 假设滤波器的大小为 f x f\n",
    "* 令padding为p，步长stride为s\n",
    "* 则输出特征图的大小为 O = ( n - f + 2p )/s + 1\n",
    "#### 3.11.2 CNN 输出特征图尺寸(非正方形)\n",
    "* 假设输入特征的大小为 nh x nw\n",
    "* 假设滤波器的大小为 fh x fw\n",
    "* 令padding为p，步长stride为s\n",
    "* 则输出特征图的高度为 Oh = (nh - fh + 2p)/s + 1\n",
    "* 输出特征图的宽度为 Ow = (nw - fw + 2p)/s + 1"
   ]
  },
  {
   "cell_type": "markdown",
   "metadata": {},
   "source": [
    "### 3.12 训练神经网络的步骤\n",
    "#### 3.12.1 训练神经网络的七个步骤\n",
    "* 从训练集中获取批量数据\n",
    "* 将批量数据传入网络\n",
    "* 计算损失(预测值与真实值之间的差)【需要loss function实现】\n",
    "* 计算损失函数的梯度  【需要back propagation实现】\n",
    "* 通过上一步计算的梯度来更新权重，进而减少损失【需要optimization algorithm实现】\n",
    "* 重复1-5步直到一个epoch执行完成\n",
    "* 重复1-6步直到所设定的epochs执行完成并得到满意的accuracy\n",
    "#### 3.12.2 单批次图像训练"
   ]
  },
  {
   "cell_type": "code",
   "execution_count": 44,
   "metadata": {},
   "outputs": [
    {
     "name": "stdout",
     "output_type": "stream",
     "text": [
      "1.2.0+cu92\n"
     ]
    }
   ],
   "source": [
    "import torch\n",
    "import torch.nn as nn\n",
    "import torch.nn.functional as F\n",
    "import torch.optim as optim\n",
    "\n",
    "import torchvision\n",
    "import torchvision.transforms as transforms\n",
    "\n",
    "torch.set_printoptions(linewidth=120)\n",
    "torch.set_grad_enabled(True)  # 这里并不是必须的，默认情况下是打开的\n",
    "\n",
    "print(torch.__version__)\n",
    "# print(torchvision.__version__)"
   ]
  },
  {
   "cell_type": "code",
   "execution_count": 45,
   "metadata": {},
   "outputs": [],
   "source": [
    "# 一、训练数据获取\n",
    "train_set = torchvision.datasets.FashionMNIST(\n",
    "    root = './data/FashionMNIST',\n",
    "    train = True,\n",
    "    download = True,\n",
    "    transform = transforms.Compose([\n",
    "        transforms.ToTensor()\n",
    "    ])\n",
    "    )"
   ]
  },
  {
   "cell_type": "code",
   "execution_count": 46,
   "metadata": {},
   "outputs": [],
   "source": [
    "# 二、创建网络\n",
    "class Network(nn.Module):\n",
    "    def __init__(self):\n",
    "        super(Network, self).__init__()\n",
    "        self.conv1 = nn.Conv2d(in_channels=1, out_channels=6, kernel_size=5)\n",
    "        self.conv2 = nn.Conv2d(in_channels=6, out_channels=12, kernel_size=5)\n",
    "        self.fc1 = nn.Linear(in_features=12*4*4, out_features=120)\n",
    "        self.fc2 = nn.Linear(in_features=120, out_features=60)\n",
    "        self.out = nn.Linear(in_features=60, out_features=10)\n",
    "    \n",
    "    def forward(self, t):\n",
    "        # Input Layer\n",
    "        t = t\n",
    "        # Conv1\n",
    "        t = F.relu(self.conv1(t))\n",
    "        t = F.max_pool2d(t, kernel_size=2, stride=2)\n",
    "        # Conv2\n",
    "        t = F.relu(self.conv2(t))\n",
    "        t = F.max_pool2d(t, kernel_size=2, stride=2)\n",
    "        # FC1\n",
    "        t = t.reshape(-1, 12*4*4)\n",
    "        t = F.relu(self.fc1(t))\n",
    "        # FC2\n",
    "        t = F.relu(self.fc2(t))\n",
    "        # Output\n",
    "        t = self.out(t)\n",
    "        return t"
   ]
  },
  {
   "cell_type": "code",
   "execution_count": 47,
   "metadata": {},
   "outputs": [
    {
     "data": {
      "text/plain": [
       "2.3001296520233154"
      ]
     },
     "execution_count": 47,
     "metadata": {},
     "output_type": "execute_result"
    }
   ],
   "source": [
    "# 调用network实例\n",
    "network = Network()\n",
    "train_loader = torch.utils.data.DataLoader(train_set, batch_size=100)\n",
    "batch = next(iter(train_loader))\n",
    "images, labels = batch\n",
    "# 计算损失\n",
    "preds = network(images)\n",
    "loss = F.cross_entropy(preds,labels)\n",
    "loss.item()   #获得损失的值"
   ]
  },
  {
   "cell_type": "code",
   "execution_count": 48,
   "metadata": {},
   "outputs": [
    {
     "name": "stdout",
     "output_type": "stream",
     "text": [
      "None\n"
     ]
    }
   ],
   "source": [
    "print(network.conv1.weight.grad)"
   ]
  },
  {
   "cell_type": "code",
   "execution_count": 49,
   "metadata": {},
   "outputs": [],
   "source": [
    "# 计算损失的梯度\n",
    "loss.backward()      #反向传播"
   ]
  },
  {
   "cell_type": "code",
   "execution_count": 50,
   "metadata": {},
   "outputs": [
    {
     "name": "stdout",
     "output_type": "stream",
     "text": [
      "torch.Size([6, 1, 5, 5])\n"
     ]
    }
   ],
   "source": [
    "print(network.conv1.weight.grad.shape)"
   ]
  },
  {
   "cell_type": "code",
   "execution_count": 51,
   "metadata": {
    "scrolled": true
   },
   "outputs": [
    {
     "data": {
      "text/plain": [
       "2.3001296520233154"
      ]
     },
     "execution_count": 51,
     "metadata": {},
     "output_type": "execute_result"
    }
   ],
   "source": [
    "# 更新权重\n",
    "optimizer = optim.Adam(network.parameters(), lr =0.01)\n",
    "loss.item()      # 显示当前loss值"
   ]
  },
  {
   "cell_type": "code",
   "execution_count": 52,
   "metadata": {},
   "outputs": [
    {
     "name": "stdout",
     "output_type": "stream",
     "text": [
      "11\n"
     ]
    }
   ],
   "source": [
    "# 定义函数用于计算预测正确的数目\n",
    "def get_num_correct(preds, labels):\n",
    "    return preds.argmax(dim=1).eq(labels).sum().item()\n",
    "print(get_num_correct(preds, labels))\n",
    "# 更新权重\n",
    "optimizer.step()"
   ]
  },
  {
   "cell_type": "code",
   "execution_count": 53,
   "metadata": {},
   "outputs": [
    {
     "name": "stdout",
     "output_type": "stream",
     "text": [
      "2.2804784774780273\n",
      "15\n"
     ]
    }
   ],
   "source": [
    "preds = network(images)\n",
    "loss = F.cross_entropy(preds,labels)\n",
    "print(loss.item())\n",
    "print(get_num_correct(preds, labels))"
   ]
  },
  {
   "cell_type": "markdown",
   "metadata": {},
   "source": [
    "#### 3.12.3 单批次网络训练步骤总结\n",
    "* 从训练集中获取批量数据（lr为学习率:即朝着loss最小的方向走多远）"
   ]
  },
  {
   "cell_type": "code",
   "execution_count": 54,
   "metadata": {},
   "outputs": [],
   "source": [
    "network = Network()\n",
    "train_loader = torch.utils.data.DataLoader(train_set, batch_size=100)\n",
    "optimizer = optim.Adam(network.parameters(), lr = 0.01)\n",
    "batch = next(iter(train_loader))"
   ]
  },
  {
   "cell_type": "markdown",
   "metadata": {},
   "source": [
    "* 将批量数据传入network"
   ]
  },
  {
   "cell_type": "code",
   "execution_count": 55,
   "metadata": {},
   "outputs": [],
   "source": [
    "preds = network(images)"
   ]
  },
  {
   "cell_type": "markdown",
   "metadata": {},
   "source": [
    "* 计算loss"
   ]
  },
  {
   "cell_type": "code",
   "execution_count": 56,
   "metadata": {},
   "outputs": [],
   "source": [
    "loss = F.cross_entropy(preds, labels)"
   ]
  },
  {
   "cell_type": "markdown",
   "metadata": {},
   "source": [
    "* 计算loss的梯度"
   ]
  },
  {
   "cell_type": "code",
   "execution_count": 57,
   "metadata": {},
   "outputs": [],
   "source": [
    "loss.backward()"
   ]
  },
  {
   "cell_type": "markdown",
   "metadata": {},
   "source": [
    "* 使用计算出的梯度来更新权重，从而减少loss"
   ]
  },
  {
   "cell_type": "code",
   "execution_count": 58,
   "metadata": {},
   "outputs": [
    {
     "name": "stdout",
     "output_type": "stream",
     "text": [
      "loss1: 2.307161808013916\n",
      "loss2: 2.283153772354126\n"
     ]
    }
   ],
   "source": [
    "optimizer.step()\n",
    "print('loss1:',loss.item())  #更新前的loss\n",
    "preds = network(images)\n",
    "loss = F.cross_entropy(preds, labels)\n",
    "print('loss2:',loss.item())"
   ]
  },
  {
   "cell_type": "markdown",
   "metadata": {},
   "source": [
    "### 3.13 单周期(epoch)CNN的训练"
   ]
  },
  {
   "cell_type": "code",
   "execution_count": 59,
   "metadata": {},
   "outputs": [
    {
     "name": "stdout",
     "output_type": "stream",
     "text": [
      "1.2.0+cu92\n"
     ]
    }
   ],
   "source": [
    "import torch\n",
    "import torch.nn as nn\n",
    "import torch.nn.functional as F\n",
    "import torch.optim as optim\n",
    "\n",
    "import torchvision\n",
    "import torchvision.transforms as transforms\n",
    "\n",
    "torch.set_printoptions(linewidth=120)\n",
    "torch.set_grad_enabled(True)\n",
    "\n",
    "print(torch.__version__)\n",
    "# print(torchvision.__version__)"
   ]
  },
  {
   "cell_type": "code",
   "execution_count": 60,
   "metadata": {},
   "outputs": [],
   "source": [
    "# 数据准备\n",
    "train_set = torchvision.datasets.FashionMNIST(\n",
    "    root = './data/FashionMNIST',\n",
    "    train = True,\n",
    "    download = True,\n",
    "    transform = transforms.Compose([transforms.ToTensor()\n",
    "                                   ]))"
   ]
  },
  {
   "cell_type": "code",
   "execution_count": 61,
   "metadata": {},
   "outputs": [],
   "source": [
    "# 创建网络\n",
    "class Network(nn.Module):\n",
    "    def __init__(self):\n",
    "        super(Network,self).__init__()\n",
    "        self.conv1 = nn.Conv2d(in_channels=1, out_channels=6, kernel_size=5)\n",
    "        self.conv2 = nn.Conv2d(in_channels=6, out_channels=12, kernel_size=5)\n",
    "        self.fc1 = nn.Linear(in_features= 12*4*4, out_features=120)\n",
    "        self.fc2 = nn.Linear(in_features= 120, out_features=60)\n",
    "        self.out = nn.Linear(in_features=60, out_features=10)\n",
    "    \n",
    "    def forward(self, t):\n",
    "        t = t\n",
    "        t = F.relu(self.conv1(t))\n",
    "        t = F.max_pool2d(t, kernel_size =2, stride=2)\n",
    "        t = F.relu(self.conv2(t))\n",
    "        t = F.max_pool2d(t, kernel_size=2, stride=2)\n",
    "        t = t.reshape(-1, 12*4*4)\n",
    "        t = F.relu(self.fc1(t))\n",
    "        t = F.relu(self.fc2(t))\n",
    "        t = self.out(t)\n",
    "        return t\n",
    "        "
   ]
  },
  {
   "cell_type": "code",
   "execution_count": 62,
   "metadata": {},
   "outputs": [],
   "source": [
    "def get_num_correct(preds, labels):\n",
    "    return preds.argmax(dim=1).eq(labels).sum().item()"
   ]
  },
  {
   "cell_type": "code",
   "execution_count": 63,
   "metadata": {},
   "outputs": [
    {
     "name": "stdout",
     "output_type": "stream",
     "text": [
      "epoch: 0 loss: 345.69958394765854 total_correct: 46885\n",
      "epoch: 1 loss: 238.48316836357117 total_correct: 51220\n"
     ]
    }
   ],
   "source": [
    "# 创建网络实例\n",
    "network = Network()\n",
    "train_loader = torch.utils.data.DataLoader(train_set, batch_size=100)\n",
    "optimizer = optim.Adam(network.parameters(), lr=0.01)\n",
    "for epoch in range(2):\n",
    "    total_loss = 0\n",
    "    total_correct = 0\n",
    "    for batch in train_loader:   # Get batch\n",
    "        images, labels =batch\n",
    "        preds = network(images)\n",
    "        loss = F.cross_entropy(preds, labels)\n",
    "        optimizer.zero_grad()  #告诉优化器把梯度属性中权重的梯度归零，否则pytorch会累积梯度\n",
    "        loss.backward()\n",
    "        optimizer.step()\n",
    "        \n",
    "        total_loss += loss.item()\n",
    "        total_correct += get_num_correct(preds, labels)\n",
    "    print(\"epoch:\",epoch,\"loss:\",total_loss,\"total_correct:\",total_correct)"
   ]
  },
  {
   "cell_type": "code",
   "execution_count": 64,
   "metadata": {},
   "outputs": [
    {
     "name": "stdout",
     "output_type": "stream",
     "text": [
      "accuracy: 0.8536666666666667\n"
     ]
    }
   ],
   "source": [
    "accuracy = total_correct/len(train_set)\n",
    "print(\"accuracy:\",accuracy)"
   ]
  },
  {
   "cell_type": "markdown",
   "metadata": {},
   "source": [
    "* 每个周期的迭代数 = 数据总数/batchsize（当改变batchsize时，也就是改变了更新权重的次数，也就是朝损失函数最小的防线前进的步数）\n",
    "* accuracy = total_correct/len(train_set)\n",
    "* 梯度：告诉我们应该走哪条路能更快的到达loss最小"
   ]
  },
  {
   "cell_type": "markdown",
   "metadata": {},
   "source": [
    "### 3.14 神经网络的混淆矩阵\n",
    "* 创建混淆矩阵的两个条件:一个预测的张量和一个有相应真值或标签的张量"
   ]
  },
  {
   "cell_type": "code",
   "execution_count": 65,
   "metadata": {},
   "outputs": [
    {
     "data": {
      "text/plain": [
       "60000"
      ]
     },
     "execution_count": 65,
     "metadata": {},
     "output_type": "execute_result"
    }
   ],
   "source": [
    "# 在3.13训练后网络的基础上进行分析\n",
    "len(train_set)"
   ]
  },
  {
   "cell_type": "code",
   "execution_count": 66,
   "metadata": {},
   "outputs": [
    {
     "data": {
      "text/plain": [
       "60000"
      ]
     },
     "execution_count": 66,
     "metadata": {},
     "output_type": "execute_result"
    }
   ],
   "source": [
    "len(train_set.targets)"
   ]
  },
  {
   "cell_type": "markdown",
   "metadata": {},
   "source": [
    "对整个训练集进行预测"
   ]
  },
  {
   "cell_type": "code",
   "execution_count": 67,
   "metadata": {},
   "outputs": [],
   "source": [
    "# 另一种方式\n",
    "# @torch.no_grad()\n",
    "def get_all_preds(model,loader):\n",
    "    all_preds = torch.tensor([])\n",
    "    for batch in loader:\n",
    "        images,labels = batch\n",
    "        preds = model(images)\n",
    "        all_preds = torch.cat((all_preds,preds), dim=0)\n",
    "    return all_preds"
   ]
  },
  {
   "cell_type": "code",
   "execution_count": 68,
   "metadata": {},
   "outputs": [],
   "source": [
    "prediction_loader = torch.utils.data.DataLoader(train_set, batch_size=10000)\n",
    "train_preds = get_all_preds(network, prediction_loader)"
   ]
  },
  {
   "cell_type": "code",
   "execution_count": 69,
   "metadata": {},
   "outputs": [
    {
     "data": {
      "text/plain": [
       "torch.Size([60000, 10])"
      ]
     },
     "execution_count": 69,
     "metadata": {},
     "output_type": "execute_result"
    }
   ],
   "source": [
    "train_preds.shape"
   ]
  },
  {
   "cell_type": "code",
   "execution_count": 70,
   "metadata": {},
   "outputs": [
    {
     "name": "stdout",
     "output_type": "stream",
     "text": [
      "True\n"
     ]
    }
   ],
   "source": [
    "print(train_preds.requires_grad)   #查看训练预测张量的梯度属性"
   ]
  },
  {
   "cell_type": "code",
   "execution_count": 71,
   "metadata": {},
   "outputs": [],
   "source": [
    "train_preds.grad\n",
    "# 即使训练中关于梯度张量的跟踪已打开，但在没有进行反向传播的情况下依旧不会有梯度的值"
   ]
  },
  {
   "cell_type": "code",
   "execution_count": 72,
   "metadata": {},
   "outputs": [
    {
     "data": {
      "text/plain": [
       "<CatBackward at 0x7f293f7bf8d0>"
      ]
     },
     "execution_count": 72,
     "metadata": {},
     "output_type": "execute_result"
    }
   ],
   "source": [
    "train_preds.grad_fn   # 由于train_preds是经过函数产生的，故具有该属性"
   ]
  },
  {
   "cell_type": "code",
   "execution_count": 73,
   "metadata": {},
   "outputs": [],
   "source": [
    "# 局部关闭梯度跟踪以减小内存损耗,也可使用torch.set.grad.enabled(False)进行全局关闭\n",
    "with torch.no_grad():\n",
    "    prediction_loader = torch.utils.data.DataLoader(train_set, batch_size=1000)\n",
    "    train_preds = get_all_preds(network, prediction_loader)"
   ]
  },
  {
   "cell_type": "code",
   "execution_count": 74,
   "metadata": {},
   "outputs": [
    {
     "data": {
      "text/plain": [
       "60000"
      ]
     },
     "execution_count": 74,
     "metadata": {},
     "output_type": "execute_result"
    }
   ],
   "source": [
    "len(train_preds)"
   ]
  },
  {
   "cell_type": "code",
   "execution_count": 75,
   "metadata": {},
   "outputs": [
    {
     "name": "stdout",
     "output_type": "stream",
     "text": [
      "False\n"
     ]
    }
   ],
   "source": [
    "print(train_preds.requires_grad)"
   ]
  },
  {
   "cell_type": "code",
   "execution_count": 76,
   "metadata": {},
   "outputs": [],
   "source": [
    "train_preds.grad"
   ]
  },
  {
   "cell_type": "code",
   "execution_count": 77,
   "metadata": {},
   "outputs": [],
   "source": [
    "train_preds.grad_fn"
   ]
  },
  {
   "cell_type": "code",
   "execution_count": 78,
   "metadata": {},
   "outputs": [
    {
     "name": "stdout",
     "output_type": "stream",
     "text": [
      "total_correct: 51360\n",
      "accuracy: 0.856\n"
     ]
    }
   ],
   "source": [
    "preds_correct = get_num_correct(train_preds, train_set.targets)\n",
    "print(\"total_correct:\",preds_correct)\n",
    "print(\"accuracy:\",preds_correct/len(train_set))"
   ]
  },
  {
   "cell_type": "markdown",
   "metadata": {},
   "source": [
    "绘制混淆矩阵(方法1：)"
   ]
  },
  {
   "cell_type": "code",
   "execution_count": 79,
   "metadata": {},
   "outputs": [
    {
     "name": "stdout",
     "output_type": "stream",
     "text": [
      "tensor([9, 0, 0,  ..., 3, 0, 5])\n",
      "torch.Size([60000])\n"
     ]
    }
   ],
   "source": [
    "print(train_set.targets)\n",
    "print(train_set.targets.shape)"
   ]
  },
  {
   "cell_type": "code",
   "execution_count": 80,
   "metadata": {},
   "outputs": [
    {
     "name": "stdout",
     "output_type": "stream",
     "text": [
      "tensor([9, 0, 0,  ..., 3, 0, 5])\n",
      "torch.Size([60000])\n"
     ]
    }
   ],
   "source": [
    "print(train_preds.argmax(dim=1))\n",
    "print(train_preds.argmax(dim=1).shape)"
   ]
  },
  {
   "cell_type": "code",
   "execution_count": 81,
   "metadata": {},
   "outputs": [
    {
     "data": {
      "text/plain": [
       "tensor([[9, 9],\n",
       "        [0, 0],\n",
       "        [0, 0],\n",
       "        ...,\n",
       "        [3, 3],\n",
       "        [0, 0],\n",
       "        [5, 5]])"
      ]
     },
     "execution_count": 81,
     "metadata": {},
     "output_type": "execute_result"
    }
   ],
   "source": [
    "stack = torch.stack(\n",
    "    (\n",
    "        train_set.targets, \n",
    "        train_preds.argmax(dim=1)\n",
    "    ),dim=1\n",
    ")\n",
    "stack"
   ]
  },
  {
   "cell_type": "code",
   "execution_count": 82,
   "metadata": {},
   "outputs": [
    {
     "data": {
      "text/plain": [
       "torch.Size([60000, 2])"
      ]
     },
     "execution_count": 82,
     "metadata": {},
     "output_type": "execute_result"
    }
   ],
   "source": [
    "stack.shape"
   ]
  },
  {
   "cell_type": "code",
   "execution_count": 83,
   "metadata": {},
   "outputs": [
    {
     "data": {
      "text/plain": [
       "[9, 9]"
      ]
     },
     "execution_count": 83,
     "metadata": {},
     "output_type": "execute_result"
    }
   ],
   "source": [
    "# 使用tolist方法可访问【target，pred】对\n",
    "stack[0].tolist()"
   ]
  },
  {
   "cell_type": "code",
   "execution_count": 84,
   "metadata": {},
   "outputs": [
    {
     "data": {
      "text/plain": [
       "tensor([[0, 0, 0, 0, 0, 0, 0, 0, 0, 0],\n",
       "        [0, 0, 0, 0, 0, 0, 0, 0, 0, 0],\n",
       "        [0, 0, 0, 0, 0, 0, 0, 0, 0, 0],\n",
       "        [0, 0, 0, 0, 0, 0, 0, 0, 0, 0],\n",
       "        [0, 0, 0, 0, 0, 0, 0, 0, 0, 0],\n",
       "        [0, 0, 0, 0, 0, 0, 0, 0, 0, 0],\n",
       "        [0, 0, 0, 0, 0, 0, 0, 0, 0, 0],\n",
       "        [0, 0, 0, 0, 0, 0, 0, 0, 0, 0],\n",
       "        [0, 0, 0, 0, 0, 0, 0, 0, 0, 0],\n",
       "        [0, 0, 0, 0, 0, 0, 0, 0, 0, 0]], dtype=torch.int32)"
      ]
     },
     "execution_count": 84,
     "metadata": {},
     "output_type": "execute_result"
    }
   ],
   "source": [
    "# 创建一个混淆矩阵(初始)\n",
    "cmt = torch.zeros(10,10,dtype=torch.int32)\n",
    "cmt"
   ]
  },
  {
   "cell_type": "code",
   "execution_count": 85,
   "metadata": {},
   "outputs": [],
   "source": [
    "# 遍历所有的对，并计算每个组合发生的次数\n",
    "for p in stack:\n",
    "    tl,pl = p.tolist()\n",
    "    cmt[tl,pl] = cmt[tl,pl] + 1"
   ]
  },
  {
   "cell_type": "code",
   "execution_count": 86,
   "metadata": {},
   "outputs": [
    {
     "data": {
      "text/plain": [
       "tensor([[5472,   33,   42,  113,   16,    1,  254,    0,   69,    0],\n",
       "        [  21, 5898,    1,   54,   10,    1,    6,    0,    9,    0],\n",
       "        [ 153,    7, 3780,   53, 1251,    0,  721,    0,   35,    0],\n",
       "        [ 286,   96,    9, 5297,  170,    3,  131,    0,    8,    0],\n",
       "        [  29,   20,  151,  256, 4873,    0,  642,    0,   28,    1],\n",
       "        [  10,    0,    1,    1,    0, 5520,    0,  304,   69,   95],\n",
       "        [1618,   26,  419,  109,  523,    1, 3216,    0,   88,    0],\n",
       "        [   0,    0,    0,    0,    1,   26,    0, 5856,   20,   97],\n",
       "        [  32,    5,   22,   25,   17,    9,   36,    5, 5849,    0],\n",
       "        [   0,    0,    0,    1,    0,   14,    1,  378,    7, 5599]], dtype=torch.int32)"
      ]
     },
     "execution_count": 86,
     "metadata": {},
     "output_type": "execute_result"
    }
   ],
   "source": [
    "cmt"
   ]
  },
  {
   "cell_type": "code",
   "execution_count": 87,
   "metadata": {},
   "outputs": [
    {
     "name": "stdout",
     "output_type": "stream",
     "text": [
      "Confusion matrix, without normalization\n",
      "tensor([[5472,   33,   42,  113,   16,    1,  254,    0,   69,    0],\n",
      "        [  21, 5898,    1,   54,   10,    1,    6,    0,    9,    0],\n",
      "        [ 153,    7, 3780,   53, 1251,    0,  721,    0,   35,    0],\n",
      "        [ 286,   96,    9, 5297,  170,    3,  131,    0,    8,    0],\n",
      "        [  29,   20,  151,  256, 4873,    0,  642,    0,   28,    1],\n",
      "        [  10,    0,    1,    1,    0, 5520,    0,  304,   69,   95],\n",
      "        [1618,   26,  419,  109,  523,    1, 3216,    0,   88,    0],\n",
      "        [   0,    0,    0,    0,    1,   26,    0, 5856,   20,   97],\n",
      "        [  32,    5,   22,   25,   17,    9,   36,    5, 5849,    0],\n",
      "        [   0,    0,    0,    1,    0,   14,    1,  378,    7, 5599]], dtype=torch.int32)\n"
     ]
    },
    {
     "data": {
      "image/png": "[encoded data removed]",
      "text/plain": [
       "<Figure size 720x720 with 2 Axes>"
      ]
     },
     "metadata": {
      "needs_background": "light"
     },
     "output_type": "display_data"
    }
   ],
   "source": [
    "import matplotlib.pyplot as plt\n",
    "from resources.plotcm import plot_confusion_matrix\n",
    "names = (\n",
    "    'T-shirt/top',\n",
    "    'Trouser',\n",
    "    'Pullover',\n",
    "    'Dress',\n",
    "    'Coat',\n",
    "    'Sandal',\n",
    "    'Shirt',\n",
    "    'Sneaker',\n",
    "    'Bag',\n",
    "    'Ankle boot')\n",
    "plt.figure(figsize=(10,10))\n",
    "plot_confusion_matrix(cmt, names)"
   ]
  },
  {
   "cell_type": "markdown",
   "metadata": {},
   "source": [
    "绘制混淆矩阵(方法2：)"
   ]
  },
  {
   "cell_type": "code",
   "execution_count": 88,
   "metadata": {},
   "outputs": [
    {
     "data": {
      "text/plain": [
       "array([[5472,   33,   42,  113,   16,    1,  254,    0,   69,    0],\n",
       "       [  21, 5898,    1,   54,   10,    1,    6,    0,    9,    0],\n",
       "       [ 153,    7, 3780,   53, 1251,    0,  721,    0,   35,    0],\n",
       "       [ 286,   96,    9, 5297,  170,    3,  131,    0,    8,    0],\n",
       "       [  29,   20,  151,  256, 4873,    0,  642,    0,   28,    1],\n",
       "       [  10,    0,    1,    1,    0, 5520,    0,  304,   69,   95],\n",
       "       [1618,   26,  419,  109,  523,    1, 3216,    0,   88,    0],\n",
       "       [   0,    0,    0,    0,    1,   26,    0, 5856,   20,   97],\n",
       "       [  32,    5,   22,   25,   17,    9,   36,    5, 5849,    0],\n",
       "       [   0,    0,    0,    1,    0,   14,    1,  378,    7, 5599]])"
      ]
     },
     "execution_count": 88,
     "metadata": {},
     "output_type": "execute_result"
    }
   ],
   "source": [
    "import matplotlib.pyplot as plt\n",
    "from sklearn.metrics import confusion_matrix\n",
    "from resources.plotcm import plot_confusion_matrix  # plotcm.py文件位于当前文件resources中\n",
    "\n",
    "cm = confusion_matrix(train_set.targets, train_preds.argmax(dim=1))\n",
    "cm"
   ]
  },
  {
   "cell_type": "code",
   "execution_count": 89,
   "metadata": {},
   "outputs": [
    {
     "name": "stdout",
     "output_type": "stream",
     "text": [
      "Confusion matrix, without normalization\n",
      "[[5472   33   42  113   16    1  254    0   69    0]\n",
      " [  21 5898    1   54   10    1    6    0    9    0]\n",
      " [ 153    7 3780   53 1251    0  721    0   35    0]\n",
      " [ 286   96    9 5297  170    3  131    0    8    0]\n",
      " [  29   20  151  256 4873    0  642    0   28    1]\n",
      " [  10    0    1    1    0 5520    0  304   69   95]\n",
      " [1618   26  419  109  523    1 3216    0   88    0]\n",
      " [   0    0    0    0    1   26    0 5856   20   97]\n",
      " [  32    5   22   25   17    9   36    5 5849    0]\n",
      " [   0    0    0    1    0   14    1  378    7 5599]]\n"
     ]
    },
    {
     "data": {
      "image/png": "[encoded data removed]",
      "text/plain": [
       "<Figure size 720x720 with 2 Axes>"
      ]
     },
     "metadata": {
      "needs_background": "light"
     },
     "output_type": "display_data"
    }
   ],
   "source": [
    "names = (\n",
    "    'T-shirt/top',\n",
    "    'Trouser',\n",
    "    'Pullover',\n",
    "    'Dress',\n",
    "    'Coat',\n",
    "    'Sandal',\n",
    "    'Shirt',\n",
    "    'Sneaker',\n",
    "    'Bag',\n",
    "    'Ankle boot')\n",
    "plt.figure(figsize=(10,10))\n",
    "plot_confusion_matrix(cm, names)"
   ]
  },
  {
   "cell_type": "markdown",
   "metadata": {},
   "source": [
    "### 3.15 concatenating和stacking的区分\n",
    "* concatenating是在一个现有的轴上连接一系列的张量\n",
    "* stacking是在一个新的轴上连接一系列的张量(即，我们在所有的张量中创建一个新轴)"
   ]
  },
  {
   "cell_type": "code",
   "execution_count": 90,
   "metadata": {},
   "outputs": [
    {
     "name": "stdout",
     "output_type": "stream",
     "text": [
      "tensor([[1, 1, 1]])\n",
      "torch.Size([1, 3])\n",
      "tensor([[1],\n",
      "        [1],\n",
      "        [1]])\n",
      "torch.Size([3, 1])\n"
     ]
    }
   ],
   "source": [
    "# 给张量创建新轴\n",
    "import torch\n",
    "t = torch.tensor([1,1,1]) \n",
    "print(t.unsqueeze(dim=0))\n",
    "print(t.unsqueeze(dim=0).shape)\n",
    "print(t.unsqueeze(dim=1))\n",
    "print(t.unsqueeze(dim=1).shape)"
   ]
  },
  {
   "cell_type": "code",
   "execution_count": 93,
   "metadata": {},
   "outputs": [
    {
     "name": "stdout",
     "output_type": "stream",
     "text": [
      "tensor([1, 1, 1, 2, 2, 2, 3, 3, 3])\n",
      "tensor([[1, 1, 1],\n",
      "        [2, 2, 2],\n",
      "        [3, 3, 3]])\n",
      "tensor([[1, 1, 1],\n",
      "        [2, 2, 2],\n",
      "        [3, 3, 3]])\n",
      "tensor([[1, 2, 3],\n",
      "        [1, 2, 3],\n",
      "        [1, 2, 3]])\n"
     ]
    }
   ],
   "source": [
    "# 使用Pytorch实现concatenating和stacking\n",
    "t1 = torch.tensor([1,1,1])\n",
    "t2 = torch.tensor([2,2,2])\n",
    "t3 = torch.tensor([3,3,3])\n",
    "# Concatenating\n",
    "t_cat = torch.cat((t1,t2,t3), dim=0)\n",
    "print(t_cat)\n",
    "\n",
    "# Stacking\n",
    "t_stack = torch.stack((t1, t2, t3), dim=0)\n",
    "print(t_stack)\n",
    "\n",
    "# Staking相当于先给张量添加一个新轴然后在concat\n",
    "t_stack1 = torch.cat((t1.unsqueeze(0),t2.unsqueeze(0),t3.unsqueeze(0)), dim =0)\n",
    "print(t_stack1)\n",
    "\n",
    "t_stack2 = torch.cat((t1.unsqueeze(1),t2.unsqueeze(1),t3.unsqueeze(1)), dim =1)\n",
    "print(t_stack2)\n",
    "# cat不增加维度，stack增加维度"
   ]
  },
  {
   "cell_type": "code",
   "execution_count": 97,
   "metadata": {},
   "outputs": [
    {
     "name": "stdout",
     "output_type": "stream",
     "text": [
      "Tensor(\"concat_3:0\", shape=(9,), dtype=int32)\n",
      "Tensor(\"stack_1:0\", shape=(3, 3), dtype=int32)\n"
     ]
    }
   ],
   "source": [
    "# 使用Tensorflow实现concatenating和stacking\n",
    "import tensorflow as tf\n",
    "# Concatenating\n",
    "t1 = tf.constant([1,1,1])\n",
    "t2 = tf.constant([2,2,2])\n",
    "t3 = tf.constant([3,3,3])\n",
    "t_cat = tf.concat((t1, t2, t3), axis =0)\n",
    "print(t_cat)\n",
    "\n",
    "#Stacking\n",
    "t_stack = tf.stack((t1, t2, t3), axis =0)\n",
    "print(t_stack)"
   ]
  },
  {
   "cell_type": "code",
   "execution_count": 99,
   "metadata": {},
   "outputs": [
    {
     "data": {
      "text/plain": [
       "<tf.Tensor 'concat_5:0' shape=(3, 3) dtype=int32>"
      ]
     },
     "execution_count": 99,
     "metadata": {},
     "output_type": "execute_result"
    }
   ],
   "source": [
    "tf.concat(\n",
    "    (\n",
    "        tf.expand_dims(t1, 0)\n",
    "        ,tf.expand_dims(t2, 0)\n",
    "        ,tf.expand_dims(t3, 0)\n",
    "    )\n",
    "    ,axis=0\n",
    ")"
   ]
  },
  {
   "cell_type": "code",
   "execution_count": 100,
   "metadata": {},
   "outputs": [
    {
     "data": {
      "text/plain": [
       "<tf.Tensor 'concat_6:0' shape=(3, 3) dtype=int32>"
      ]
     },
     "execution_count": 100,
     "metadata": {},
     "output_type": "execute_result"
    }
   ],
   "source": [
    "tf.concat(\n",
    "    (\n",
    "        tf.expand_dims(t1, 1)\n",
    "        ,tf.expand_dims(t2, 1)\n",
    "        ,tf.expand_dims(t3, 1)\n",
    "    )\n",
    "    ,axis=1\n",
    ")"
   ]
  },
  {
   "cell_type": "code",
   "execution_count": 101,
   "metadata": {},
   "outputs": [
    {
     "name": "stdout",
     "output_type": "stream",
     "text": [
      "[1 1 1 2 2 2 3 3 3]\n",
      "[[1 1 1]\n",
      " [2 2 2]\n",
      " [3 3 3]]\n"
     ]
    }
   ],
   "source": [
    "# 使用Numpy实现concatenating和stacking\n",
    "import numpy as np\n",
    "t1 = np.array([1,1,1])\n",
    "t2 = np.array([2,2,2])\n",
    "t3 = np.array([3,3,3])\n",
    "# Concatenating\n",
    "t_cat = np.concatenate((t1,t2,t3), axis=0)\n",
    "print(t_cat)\n",
    "# Stacking\n",
    "t_stack = np.stack((t1,t2,t3), axis =0)\n",
    "print(t_stack)"
   ]
  },
  {
   "cell_type": "code",
   "execution_count": 103,
   "metadata": {},
   "outputs": [
    {
     "data": {
      "text/plain": [
       "array([[1, 1, 1],\n",
       "       [2, 2, 2],\n",
       "       [3, 3, 3]])"
      ]
     },
     "execution_count": 103,
     "metadata": {},
     "output_type": "execute_result"
    }
   ],
   "source": [
    "np.concatenate(\n",
    "    (\n",
    "        np.expand_dims(t1, 0)\n",
    "        ,np.expand_dims(t2, 0)\n",
    "        ,np.expand_dims(t3, 0)\n",
    "    )\n",
    "    ,axis=0\n",
    ")"
   ]
  },
  {
   "cell_type": "code",
   "execution_count": 104,
   "metadata": {},
   "outputs": [
    {
     "data": {
      "text/plain": [
       "array([[1, 2, 3],\n",
       "       [1, 2, 3],\n",
       "       [1, 2, 3]])"
      ]
     },
     "execution_count": 104,
     "metadata": {},
     "output_type": "execute_result"
    }
   ],
   "source": [
    "np.concatenate(\n",
    "    (\n",
    "        np.expand_dims(t1, 1)\n",
    "        ,np.expand_dims(t2, 1)\n",
    "        ,np.expand_dims(t3, 1)\n",
    "    )\n",
    "    ,axis=1\n",
    ")"
   ]
  },
  {
   "cell_type": "code",
   "execution_count": null,
   "metadata": {},
   "outputs": [],
   "source": []
  }
 ],
 "metadata": {
  "kernelspec": {
   "display_name": "Python 3",
   "language": "python",
   "name": "python3"
  },
  "language_info": {
   "codemirror_mode": {
    "name": "ipython",
    "version": 3
   },
   "file_extension": ".py",
   "mimetype": "text/x-python",
   "name": "python",
   "nbconvert_exporter": "python",
   "pygments_lexer": "ipython3",
   "version": "3.6.9"
  }
 },
 "nbformat": 4,
 "nbformat_minor": 2
}
